{
  "nbformat": 4,
  "nbformat_minor": 0,
  "metadata": {
    "colab": {
      "name": "excercise_MonteCarlo_SIR.ipynb",
      "provenance": [],
      "collapsed_sections": [],
      "toc_visible": true,
      "mount_file_id": "1d1w3uSdR_MOfnV0A4HZew_BfvXAUI7Cm",
      "authorship_tag": "ABX9TyPM70YzxN7PX7T/MWP+E1Q+",
      "include_colab_link": true
    },
    "kernelspec": {
      "name": "python3",
      "display_name": "Python 3"
    }
  },
  "cells": [
    {
      "cell_type": "markdown",
      "metadata": {
        "id": "view-in-github",
        "colab_type": "text"
      },
      "source": [
        "<a href=\"https://colab.research.google.com/github/zierenberg/lecture_MC_disease/blob/main/excercise_MonteCarlo_SIR.ipynb\" target=\"_parent\"><img src=\"https://colab.research.google.com/assets/colab-badge.svg\" alt=\"Open In Colab\"/></a>"
      ]
    },
    {
      "cell_type": "markdown",
      "metadata": {
        "id": "zoRwWgSqHA66"
      },
      "source": [
        "# General"
      ]
    },
    {
      "cell_type": "code",
      "metadata": {
        "id": "_l6LsxcqD8Y0"
      },
      "source": [
        "import numpy as np\n",
        "import random\n",
        "import math\n",
        "import matplotlib.pyplot as plt\n",
        "from scipy.integrate import odeint\n",
        "from tqdm import tqdm\n",
        "\n",
        "\n",
        "import os\n",
        "\n",
        "try:\n",
        "  os.mkdir(\"figures\")\n",
        "except OSError:\n",
        "  pass"
      ],
      "execution_count": 1,
      "outputs": []
    },
    {
      "cell_type": "markdown",
      "metadata": {
        "id": "8ZeRlMNo6e5F"
      },
      "source": [
        "Deterministic solution"
      ]
    },
    {
      "cell_type": "code",
      "metadata": {
        "id": "Ow3VSlhP5_B4"
      },
      "source": [
        "def SIR_derivative(u, t, rate_infection, rate_recovery):\n",
        "    S, I, R = u\n",
        "    N = S + I + R\n",
        "    dSdt = -rate_infection * S * I / N\n",
        "    dIdt =  rate_infection * S * I / N - rate_recovery * I\n",
        "    dRdt =  rate_recovery * I\n",
        "    return dSdt, dIdt, dRdt\n",
        "\n",
        "def SIR_deterministic(rate_infection, rate_recovery, S0, I0, R0, times):\n",
        "  u0 = S0, I0, R0\n",
        "  \n",
        "  # Integrate SIR equations over the time grid, t.\n",
        "  sol = odeint(SIR_derivative, u0, times, args=(rate_infection, rate_recovery))\n",
        "  S, I, R = sol.T\n",
        "  return np.array(S), np.array(I), np.array(R)"
      ],
      "execution_count": 2,
      "outputs": []
    },
    {
      "cell_type": "markdown",
      "metadata": {
        "id": "milnfCe9G4Qw"
      },
      "source": [
        "# Kinetic Monte Carlo Simulation der SIR Dynamik\n",
        "Implementiert das stochastische SIR Modell mit dem Gillespie Algorithmus und stellt die Ergebnisse grafisch dar.\n",
        "(z.B. 𝜇=1/7, 𝜆=2/7, $N$=105, $R_0$=0, $I_0$=10, 1 Messpunkt pro Tag)"
      ]
    },
    {
      "cell_type": "code",
      "metadata": {
        "id": "2y0XLn1Rak9s"
      },
      "source": [
        "#implement simulation here"
      ],
      "execution_count": null,
      "outputs": []
    },
    {
      "cell_type": "markdown",
      "metadata": {
        "id": "YONfwAFn4bdq"
      },
      "source": [
        "Example"
      ]
    },
    {
      "cell_type": "code",
      "metadata": {
        "colab": {
          "base_uri": "https://localhost:8080/",
          "height": 282
        },
        "id": "aWvz23Qf4gRU",
        "outputId": "3c40f5fe-e366-43ea-8998-72899f2372ab"
      },
      "source": [
        "rate_recovery  = 1/7\n",
        "rate_infection = 2/7\n",
        "I0 = 10\n",
        "N = int(1e5)\n",
        "S0 = N-I0\n",
        "R0 = 0\n",
        "time_total = 21\n",
        "times = np.arange(0,time_total,1)\n",
        "\n",
        "# simulation\n",
        "\n",
        "# deterministic solution\n",
        "S_det, I_det, R_det = SIR_deterministic(rate_infection, rate_recovery, S0, I0, R0, times)\n",
        "plt.plot(times, I_det, color='black', label='deterministic', linewidth=2)\n",
        "\n",
        "plt.xlabel('time')\n",
        "plt.ylabel('number active cases')\n",
        "plt.legend()\n",
        "plt.savefig('figures/kineticMC_example.png', dpi=200)"
      ],
      "execution_count": 4,
      "outputs": [
        {
          "output_type": "display_data",
          "data": {
            "image/png": "[encoded data removed]",
            "text/plain": [
              "<Figure size 432x288 with 1 Axes>"
            ]
          },
          "metadata": {
            "tags": [],
            "needs_background": "light"
          }
        }
      ]
    },
    {
      "cell_type": "code",
      "metadata": {
        "id": "AH0lIwq8PPea"
      },
      "source": [
        ""
      ],
      "execution_count": null,
      "outputs": []
    }
  ]
}